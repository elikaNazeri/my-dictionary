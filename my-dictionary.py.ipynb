{
 "cells": [
  {
   "cell_type": "code",
   "execution_count": 45,
   "metadata": {},
   "outputs": [],
   "source": [
    "course01 = {\n",
    "    'title': 'Udemy  The Art of Doing: Code 40 Challenging Python Programs Today! 2021',\n",
    "    'punlisher': 'Udemy',\n",
    "    'teacher':  'Michael Eramo',\n",
    "    'language': 'English',\n",
    "    'level of education': 'begginer',\n",
    "    'number of lessons': 157,\n",
    "    'time': 28,  \n",
    "    \n",
    "        \n",
    "}\n",
    "\n",
    "    \n",
    "    \n",
    "course02 : {\n",
    "    'title': 'Udemy  Python Loops and Looping Techniques: Beginner to Advanced 2021-10',\n",
    "    'publisher': 'Udemy',\n",
    "    'teacher': ' Estefania Cassingena Navone',\n",
    "    'language': 'english',\n",
    "    'level of education': 'all levels',\n",
    "    'number of lessons': 220,\n",
    "    'time': 9,\n",
    "\n",
    "}  \n",
    "\n",
    "\n",
    "course03 : {\n",
    "    'title': 'Udemy  Deep Learning for Image Segmentation with Python & Pytorch 2022-',\n",
    "'publisher': 'Udemy',\n",
    "'teacher': ' Mazhar Hussain , Computer Science & AI School',\n",
    "'language': 'english',\n",
    "'level of education': 'all levels',\n",
    "'number of lessons': 23,\n",
    "'time': 3,\n",
    "}\n",
    "\n",
    "course04 : {\n",
    "    'title': 'Udemy The Art of Doing: Python Network Applications with Sockets! 2022',\n",
    "    'publisher': 'Udemy',\n",
    "    'teacher': ' Michael Eramo',\n",
    "    'language': 'english',\n",
    "    'level of education': 'middle',\n",
    "    'number of lessons': 61,\n",
    "    'time': 14,\n",
    "\n",
    "}\n",
    "course05 : {\n",
    "    'title': 'Udemy Python, JS, & React | Build a Blockchain & Cryptocurrency 2021',\n",
    "    'publisher': 'Udemy',\n",
    "    'teacher': ' David Joseph Katz',\n",
    "    'language': 'english',\n",
    "    'level of education': 'primary to advanced',\n",
    "    'number of lessons': 133,\n",
    "    'time': 15,\n",
    "\n",
    "}\n",
    "\n",
    "\n",
    "\n",
    "    \n",
    "    "
   ]
  }
 ],
 "metadata": {
  "kernelspec": {
   "display_name": "Python 3",
   "language": "python",
   "name": "python3"
  },
  "language_info": {
   "codemirror_mode": {
    "name": "ipython",
    "version": 3
   },
   "file_extension": ".py",
   "mimetype": "text/x-python",
   "name": "python",
   "nbconvert_exporter": "python",
   "pygments_lexer": "ipython3",
   "version": "3.11.1 (tags/v3.11.1:a7a450f, Dec  6 2022, 19:58:39) [MSC v.1934 64 bit (AMD64)]"
  },
  "orig_nbformat": 4,
  "vscode": {
   "interpreter": {
    "hash": "fd247c13dbadd0b0877533ca9741c8b9130dba32ca712ec4005fbe1430cf670e"
   }
  }
 },
 "nbformat": 4,
 "nbformat_minor": 2
}
