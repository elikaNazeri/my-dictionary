course01 = {
    'title' : 'Udemy - Machine Learning A-Z™: Python & R in Data Science [2023] 2023-1',
    'publisher' : 'Udemy',
    'teacher' : 'Kirill Eremenko, Hadelin de Ponteves, SuperDataScience Team',
    'level of education' : 'beginner to advanced',
    'time' : '42h 34m',
    'number of lessons' : 382,
    'language' : 'english',

}

course02 = {
    'title' : 'Udemy - Python Searching & Sorting Algorithms - A Practical Approach 2021',
    'publisher' : 'Udemy',
    'teacher' : 'Estefania Cassingena Navone',
    'language' : 'english',
    'level of education' : 'all levels',
    'number of lessons' : 115,
    'time' : '6h 49m',

}

course03 = {
    'title' : 'Udemy - Python Exercises for Beginners: Solve 100+ Coding Challenges 2022-11',
    'publisher' : 'Udemy',
    'teacher' : 'Estefania Cassingena Navone',
    'language' : 'english',
    'level of education' : 'beginner',
    'number of lessons' : 254,
    'time' : '11h 1m',

}

course04 = {
    'title' : 'Udemy - Python OOP - Object Oriented Programming for Beginners 2022-6',
    'publisher' : 'Udemy',
    'teacher' : 'Estefania Cassingena Navone',
    'language' : 'english',
    'level of education' : 'begginer',
    'number of lessons' : 261,
    'time' : '16h 28m',

}

course05 = {
    'title' : 'Udemy - Python Best Practices: Learn to Write Clean Python Code 2021-1',
    'publisher' : 'Udemy',
    'language' : 'english',
    'level of education' : 'all levels',
    'number of lessons' : 122,
    'time' : '5h 19m',
}

onlineCourses = [course01, course02, course03, course04, course05]
list_of_titles = (f"The title of course01 is {[course01['title']]}, The title of course02 is {[course02['title']]}, The title of course03 is {[course03['title']]}, The title of course04 is {[course04['title']]}, The title of course05 is {[course05['title']]}")
print(list_of_titles)
