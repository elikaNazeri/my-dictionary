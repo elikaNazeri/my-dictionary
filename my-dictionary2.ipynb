{
 "cells": [
  {
   "cell_type": "code",
   "execution_count": 1,
   "metadata": {},
   "outputs": [
    {
     "name": "stdout",
     "output_type": "stream",
     "text": [
      "The title of course01 is ['Udemy - Machine Learning A-Z™: Python & R in Data Science [2023] 2023-1'], The title of course02 is ['Udemy - Python Searching & Sorting Algorithms - A Practical Approach 2021'], The title of course03 is ['Udemy - Python Exercises for Beginners: Solve 100+ Coding Challenges 2022-11'], The title of course04 is ['Udemy - Python OOP - Object Oriented Programming for Beginners 2022-6'], The title of course05 is ['Udemy - Python Best Practices: Learn to Write Clean Python Code 2021-1']\n"
     ]
    }
   ],
   "source": [
    "course01 = {\n",
    "    'title' : 'Udemy - Machine Learning A-Z™: Python & R in Data Science [2023] 2023-1',\n",
    "    'publisher' : 'Udemy',\n",
    "    'teacher' : 'Kirill Eremenko, Hadelin de Ponteves, SuperDataScience Team',\n",
    "    'level of education' : 'beginner to advanced',\n",
    "    'time' : '42h 34m',\n",
    "    'number of lessons' : 382,\n",
    "    'language' : 'english',\n",
    "\n",
    "}\n",
    "course02 = {\n",
    "    'title' : 'Udemy - Python Searching & Sorting Algorithms - A Practical Approach 2021',\n",
    "    'publisher' : 'Udemy',\n",
    "    'teacher' : 'Estefania Cassingena Navone',\n",
    "    'language' : 'english',\n",
    "    'level of education' : 'all levels',\n",
    "    'number of lessons' : 115,\n",
    "    'time' : '6h 49m',\n",
    "\n",
    "}\n",
    "course03 = {\n",
    "    'title' : 'Udemy - Python Exercises for Beginners: Solve 100+ Coding Challenges 2022-11',\n",
    "    'publisher' : 'Udemy',\n",
    "    'teacher' : 'Estefania Cassingena Navone',\n",
    "    'language' : 'english',\n",
    "    'level of education' : 'beginner',\n",
    "    'number of lessons' : 254,\n",
    "    'time' : '11h 1m',\n",
    "\n",
    "}\n",
    "course04 = {\n",
    "    'title' : 'Udemy - Python OOP - Object Oriented Programming for Beginners 2022-6',\n",
    "    'publisher' : 'Udemy',\n",
    "    'teacher' : 'Estefania Cassingena Navone',\n",
    "    'language' : 'english',\n",
    "    'level of education' : 'begginer',\n",
    "    'number of lessons' : 261,\n",
    "    'time' : '16h 28m',\n",
    "\n",
    "}\n",
    "course05 = {\n",
    "    'title' : 'Udemy - Python Best Practices: Learn to Write Clean Python Code 2021-1',\n",
    "    'publisher' : 'Udemy',\n",
    "    'language' : 'english',\n",
    "    'level of education' : 'all levels',\n",
    "    'number of lessons' : 122,\n",
    "    'time' : '5h 19m',\n",
    "}\n",
    "onlineCourses = [course01, course02, course03, course04, course05]\n",
    "list_of_titles = (f\"The title of course01 is {[course01['title']]}, The title of course02 is {[course02['title']]}, The title of course03 is {[course03['title']]}, The title of course04 is {[course04['title']]}, The title of course05 is {[course05['title']]}\")\n",
    "print(list_of_titles)"
   ]
  }
 ],
 "metadata": {
  "kernelspec": {
   "display_name": "Python 3",
   "language": "python",
   "name": "python3"
  },
  "language_info": {
   "codemirror_mode": {
    "name": "ipython",
    "version": 3
   },
   "file_extension": ".py",
   "mimetype": "text/x-python",
   "name": "python",
   "nbconvert_exporter": "python",
   "pygments_lexer": "ipython3",
   "version": "3.11.1"
  },
  "orig_nbformat": 4,
  "vscode": {
   "interpreter": {
    "hash": "fd247c13dbadd0b0877533ca9741c8b9130dba32ca712ec4005fbe1430cf670e"
   }
  }
 },
 "nbformat": 4,
 "nbformat_minor": 2
}
